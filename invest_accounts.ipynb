{
 "cells": [
  {
   "cell_type": "markdown",
   "id": "b5fbbd47",
   "metadata": {},
   "source": [
    "# Notebook to study investment records\n",
    "\n",
    "This notebook analyze the different investments given in an excel file. Here, ``pandas`` library is used to explore the information stored in the excel file. At the end, it will be computed the TAE (using the XIRR), which give us an idea of the Extended Internal Rate of Return of non-periodic investments.\n",
    "\n",
    "## Installing needed packages"
   ]
  },
  {
   "cell_type": "code",
   "execution_count": 1,
   "id": "9219ea65",
   "metadata": {},
   "outputs": [
    {
     "name": "stdout",
     "output_type": "stream",
     "text": [
      "Requirement already satisfied: openpyxl in /home/miagarciaru/anaconda3/envs/analysis/lib/python3.11/site-packages (3.1.5)\n",
      "Requirement already satisfied: numpy-financial in /home/miagarciaru/anaconda3/envs/analysis/lib/python3.11/site-packages (1.0.0)\n",
      "Requirement already satisfied: pyxirr in /home/miagarciaru/anaconda3/envs/analysis/lib/python3.11/site-packages (0.10.7)\n",
      "Requirement already satisfied: et-xmlfile in /home/miagarciaru/anaconda3/envs/analysis/lib/python3.11/site-packages (from openpyxl) (2.0.0)\n",
      "Requirement already satisfied: numpy>=1.15 in /home/miagarciaru/anaconda3/envs/analysis/lib/python3.11/site-packages (from numpy-financial) (2.2.6)\n",
      "Note: you may need to restart the kernel to use updated packages.\n"
     ]
    }
   ],
   "source": [
    "pip install openpyxl numpy-financial pyxirr"
   ]
  },
  {
   "cell_type": "markdown",
   "id": "665e0698",
   "metadata": {},
   "source": [
    "### Loading needed libraries\n",
    "\n",
    "The following line load the relevant libraries in python to be used in this analysis."
   ]
  },
  {
   "cell_type": "code",
   "execution_count": 2,
   "id": "4791d185",
   "metadata": {},
   "outputs": [],
   "source": [
    "# Loading the data\n",
    "import pandas as pd\n",
    "import numpy as np\n",
    "import numpy_financial as npf\n",
    "import pyxirr\n",
    "from datetime import date\n",
    "import matplotlib.pyplot as plt"
   ]
  },
  {
   "cell_type": "markdown",
   "id": "23b930f6",
   "metadata": {},
   "source": [
    "## Reading the data file\n",
    "\n",
    "Modify the following line to load the file with the investment records downloaded from etoro: "
   ]
  },
  {
   "cell_type": "code",
   "execution_count": 3,
   "id": "2f5335c1",
   "metadata": {},
   "outputs": [
    {
     "data": {
      "text/html": [
       "<div>\n",
       "<style scoped>\n",
       "    .dataframe tbody tr th:only-of-type {\n",
       "        vertical-align: middle;\n",
       "    }\n",
       "\n",
       "    .dataframe tbody tr th {\n",
       "        vertical-align: top;\n",
       "    }\n",
       "\n",
       "    .dataframe thead th {\n",
       "        text-align: right;\n",
       "    }\n",
       "</style>\n",
       "<table border=\"1\" class=\"dataframe\">\n",
       "  <thead>\n",
       "    <tr style=\"text-align: right;\">\n",
       "      <th></th>\n",
       "      <th>Fecha</th>\n",
       "      <th>Tipo</th>\n",
       "      <th>Detalles</th>\n",
       "      <th>Importe</th>\n",
       "      <th>Unidades</th>\n",
       "      <th>Cambio de capital realizado</th>\n",
       "      <th>Capital realizado</th>\n",
       "      <th>Saldo</th>\n",
       "      <th>ID de posición</th>\n",
       "      <th>Tipo de activo</th>\n",
       "      <th>Importe no retirable</th>\n",
       "    </tr>\n",
       "  </thead>\n",
       "  <tbody>\n",
       "    <tr>\n",
       "      <th>0</th>\n",
       "      <td>05/01/2025 03:41:11</td>\n",
       "      <td>Depósito</td>\n",
       "      <td>200.00 USD CreditCard</td>\n",
       "      <td>200.0</td>\n",
       "      <td>-</td>\n",
       "      <td>200.0</td>\n",
       "      <td>200.0</td>\n",
       "      <td>200.0</td>\n",
       "      <td>-</td>\n",
       "      <td>-</td>\n",
       "      <td>0</td>\n",
       "    </tr>\n",
       "    <tr>\n",
       "      <th>1</th>\n",
       "      <td>06/01/2025 14:30:45</td>\n",
       "      <td>Posición abierta</td>\n",
       "      <td>VB/USD</td>\n",
       "      <td>37.5</td>\n",
       "      <td>0.152811</td>\n",
       "      <td>0.0</td>\n",
       "      <td>200.0</td>\n",
       "      <td>162.5</td>\n",
       "      <td>-</td>\n",
       "      <td>ETF</td>\n",
       "      <td>0</td>\n",
       "    </tr>\n",
       "    <tr>\n",
       "      <th>2</th>\n",
       "      <td>06/01/2025 14:30:52</td>\n",
       "      <td>Posición abierta</td>\n",
       "      <td>VOO/USD</td>\n",
       "      <td>112.5</td>\n",
       "      <td>0.205258</td>\n",
       "      <td>0.0</td>\n",
       "      <td>200.0</td>\n",
       "      <td>50.0</td>\n",
       "      <td>-</td>\n",
       "      <td>ETF</td>\n",
       "      <td>0</td>\n",
       "    </tr>\n",
       "    <tr>\n",
       "      <th>3</th>\n",
       "      <td>06/01/2025 14:31:32</td>\n",
       "      <td>Posición abierta</td>\n",
       "      <td>VXUS/USD</td>\n",
       "      <td>50.0</td>\n",
       "      <td>0.83738</td>\n",
       "      <td>0.0</td>\n",
       "      <td>200.0</td>\n",
       "      <td>0.0</td>\n",
       "      <td>-</td>\n",
       "      <td>ETF</td>\n",
       "      <td>0</td>\n",
       "    </tr>\n",
       "    <tr>\n",
       "      <th>4</th>\n",
       "      <td>22/01/2025 21:57:34</td>\n",
       "      <td>Depósito</td>\n",
       "      <td>200.00 USD CreditCard</td>\n",
       "      <td>200.0</td>\n",
       "      <td>-</td>\n",
       "      <td>200.0</td>\n",
       "      <td>400.0</td>\n",
       "      <td>200.0</td>\n",
       "      <td>-</td>\n",
       "      <td>-</td>\n",
       "      <td>0</td>\n",
       "    </tr>\n",
       "  </tbody>\n",
       "</table>\n",
       "</div>"
      ],
      "text/plain": [
       "                 Fecha              Tipo               Detalles  Importe  \\\n",
       "0  05/01/2025 03:41:11          Depósito  200.00 USD CreditCard    200.0   \n",
       "1  06/01/2025 14:30:45  Posición abierta                 VB/USD     37.5   \n",
       "2  06/01/2025 14:30:52  Posición abierta                VOO/USD    112.5   \n",
       "3  06/01/2025 14:31:32  Posición abierta               VXUS/USD     50.0   \n",
       "4  22/01/2025 21:57:34          Depósito  200.00 USD CreditCard    200.0   \n",
       "\n",
       "   Unidades  Cambio de capital realizado  Capital realizado  Saldo  \\\n",
       "0         -                        200.0              200.0  200.0   \n",
       "1  0.152811                          0.0              200.0  162.5   \n",
       "2  0.205258                          0.0              200.0   50.0   \n",
       "3   0.83738                          0.0              200.0    0.0   \n",
       "4         -                        200.0              400.0  200.0   \n",
       "\n",
       "  ID de posición Tipo de activo  Importe no retirable  \n",
       "0              -              -                     0  \n",
       "1              -            ETF                     0  \n",
       "2              -            ETF                     0  \n",
       "3              -            ETF                     0  \n",
       "4              -              -                     0  "
      ]
     },
     "execution_count": 3,
     "metadata": {},
     "output_type": "execute_result"
    }
   ],
   "source": [
    "# Read the excel file with the especific sheet (use the sheet_name option when the excel has multiple sheets)\n",
    "df = pd.read_excel(\"../etoro-account-statement-example.xlsx\", sheet_name = \"Actividad de la cuenta\")\n",
    "\n",
    "# Take a look to the first rows of the dataframe\n",
    "df.head()"
   ]
  },
  {
   "cell_type": "code",
   "execution_count": 4,
   "id": "36398079",
   "metadata": {},
   "outputs": [
    {
     "name": "stdout",
     "output_type": "stream",
     "text": [
      "<class 'pandas.core.frame.DataFrame'>\n",
      "RangeIndex: 92 entries, 0 to 91\n",
      "Data columns (total 11 columns):\n",
      " #   Column                       Non-Null Count  Dtype  \n",
      "---  ------                       --------------  -----  \n",
      " 0   Fecha                        92 non-null     object \n",
      " 1   Tipo                         92 non-null     object \n",
      " 2   Detalles                     92 non-null     object \n",
      " 3   Importe                      92 non-null     float64\n",
      " 4   Unidades                     92 non-null     object \n",
      " 5   Cambio de capital realizado  92 non-null     float64\n",
      " 6   Capital realizado            92 non-null     float64\n",
      " 7   Saldo                        92 non-null     float64\n",
      " 8   ID de posición               92 non-null     object \n",
      " 9   Tipo de activo               92 non-null     object \n",
      " 10  Importe no retirable         92 non-null     int64  \n",
      "dtypes: float64(4), int64(1), object(6)\n",
      "memory usage: 8.0+ KB\n"
     ]
    }
   ],
   "source": [
    "# Run this line to list the name of the columns and the type of each variable in these columns\n",
    "df.info()"
   ]
  },
  {
   "cell_type": "code",
   "execution_count": 5,
   "id": "89a34648",
   "metadata": {},
   "outputs": [
    {
     "data": {
      "text/plain": [
       "Detalles\n",
       "VB/USD      10\n",
       "VXUS/USD    10\n",
       "VOO/USD      9\n",
       "SPYG/USD     1\n",
       "Name: count, dtype: int64"
      ]
     },
     "execution_count": 5,
     "metadata": {},
     "output_type": "execute_result"
    }
   ],
   "source": [
    "# Show the lists of ETFs actions in the dataframe\n",
    "df[df[\"Tipo\"] == \"Posición abierta\"][\"Detalles\"].value_counts()"
   ]
  },
  {
   "cell_type": "markdown",
   "id": "03110142",
   "metadata": {},
   "source": [
    "From the line above, it can be seen the list of ETFs in the dataframe. In the following code line, add a current price for each ETF (google it) and define the current date of your analysis:"
   ]
  },
  {
   "cell_type": "code",
   "execution_count": 6,
   "id": "444dcfb6",
   "metadata": {},
   "outputs": [],
   "source": [
    "# Search on internet the current prices of the VOO, VXUS, VB and SPYG (and any other additionall ETFs) listed in the df. If there \n",
    "# are more ETFs or actions, please include their prices here too.\n",
    "current_price_VOO = 600.51\n",
    "current_price_VXUS = 72.17\n",
    "current_price_VB = 248.10\n",
    "current_price_SPYG = 102.40\n",
    "\n",
    "# Set the current date to compute the total TAE\n",
    "current_date = pd.to_datetime(\"11/10/2025 00:00:00\", format=\"%d/%m/%Y %H:%M:%S\")"
   ]
  },
  {
   "cell_type": "markdown",
   "id": "9396a7fb",
   "metadata": {},
   "source": [
    "From the information given in the main dataframe, we only need the Date (Fecha), Type (Tipo), Details (Detalles), Imports (Importes) and Units (Unidades) to evaluate the main aspects of the investments."
   ]
  },
  {
   "cell_type": "code",
   "execution_count": 7,
   "id": "3e0ce931",
   "metadata": {},
   "outputs": [
    {
     "name": "stdout",
     "output_type": "stream",
     "text": [
      "<class 'pandas.core.frame.DataFrame'>\n",
      "RangeIndex: 92 entries, 0 to 91\n",
      "Data columns (total 5 columns):\n",
      " #   Column    Non-Null Count  Dtype         \n",
      "---  ------    --------------  -----         \n",
      " 0   Fecha     92 non-null     datetime64[ns]\n",
      " 1   Tipo      92 non-null     object        \n",
      " 2   Detalles  92 non-null     object        \n",
      " 3   Importe   92 non-null     float64       \n",
      " 4   Unidades  92 non-null     object        \n",
      "dtypes: datetime64[ns](1), float64(1), object(3)\n",
      "memory usage: 3.7+ KB\n"
     ]
    },
    {
     "data": {
      "text/html": [
       "<div>\n",
       "<style scoped>\n",
       "    .dataframe tbody tr th:only-of-type {\n",
       "        vertical-align: middle;\n",
       "    }\n",
       "\n",
       "    .dataframe tbody tr th {\n",
       "        vertical-align: top;\n",
       "    }\n",
       "\n",
       "    .dataframe thead th {\n",
       "        text-align: right;\n",
       "    }\n",
       "</style>\n",
       "<table border=\"1\" class=\"dataframe\">\n",
       "  <thead>\n",
       "    <tr style=\"text-align: right;\">\n",
       "      <th></th>\n",
       "      <th>Fecha</th>\n",
       "      <th>Tipo</th>\n",
       "      <th>Detalles</th>\n",
       "      <th>Importe</th>\n",
       "      <th>Unidades</th>\n",
       "    </tr>\n",
       "  </thead>\n",
       "  <tbody>\n",
       "    <tr>\n",
       "      <th>0</th>\n",
       "      <td>2025-01-05 03:41:11</td>\n",
       "      <td>Depósito</td>\n",
       "      <td>200.00 USD CreditCard</td>\n",
       "      <td>200.0</td>\n",
       "      <td>-</td>\n",
       "    </tr>\n",
       "    <tr>\n",
       "      <th>1</th>\n",
       "      <td>2025-01-06 14:30:45</td>\n",
       "      <td>Posición abierta</td>\n",
       "      <td>VB/USD</td>\n",
       "      <td>37.5</td>\n",
       "      <td>0.152811</td>\n",
       "    </tr>\n",
       "    <tr>\n",
       "      <th>2</th>\n",
       "      <td>2025-01-06 14:30:52</td>\n",
       "      <td>Posición abierta</td>\n",
       "      <td>VOO/USD</td>\n",
       "      <td>112.5</td>\n",
       "      <td>0.205258</td>\n",
       "    </tr>\n",
       "    <tr>\n",
       "      <th>3</th>\n",
       "      <td>2025-01-06 14:31:32</td>\n",
       "      <td>Posición abierta</td>\n",
       "      <td>VXUS/USD</td>\n",
       "      <td>50.0</td>\n",
       "      <td>0.83738</td>\n",
       "    </tr>\n",
       "    <tr>\n",
       "      <th>4</th>\n",
       "      <td>2025-01-22 21:57:34</td>\n",
       "      <td>Depósito</td>\n",
       "      <td>200.00 USD CreditCard</td>\n",
       "      <td>200.0</td>\n",
       "      <td>-</td>\n",
       "    </tr>\n",
       "  </tbody>\n",
       "</table>\n",
       "</div>"
      ],
      "text/plain": [
       "                Fecha              Tipo               Detalles  Importe  \\\n",
       "0 2025-01-05 03:41:11          Depósito  200.00 USD CreditCard    200.0   \n",
       "1 2025-01-06 14:30:45  Posición abierta                 VB/USD     37.5   \n",
       "2 2025-01-06 14:30:52  Posición abierta                VOO/USD    112.5   \n",
       "3 2025-01-06 14:31:32  Posición abierta               VXUS/USD     50.0   \n",
       "4 2025-01-22 21:57:34          Depósito  200.00 USD CreditCard    200.0   \n",
       "\n",
       "   Unidades  \n",
       "0         -  \n",
       "1  0.152811  \n",
       "2  0.205258  \n",
       "3   0.83738  \n",
       "4         -  "
      ]
     },
     "execution_count": 7,
     "metadata": {},
     "output_type": "execute_result"
    }
   ],
   "source": [
    "# Define the relevant columns to keep in the analysis\n",
    "relevant_columns = ['Fecha', 'Tipo', 'Detalles', 'Importe', 'Unidades']\n",
    "\n",
    "# Create a dataframe called invests_df, where we will save the information with the relevant information.\n",
    "invests_df = df[relevant_columns].copy()\n",
    "\n",
    "# Set the Date column in a datatime format\n",
    "invests_df[\"Fecha\"] = pd.to_datetime(invests_df[\"Fecha\"], format=\"%d/%m/%Y %H:%M:%S\")\n",
    "\n",
    "# Verify that the new dataframe contains only the relevant information and that the Date is given in datatime format\n",
    "invests_df.info()\n",
    "\n",
    "# Show the first rows of the invests_df\n",
    "invests_df.head(5)"
   ]
  },
  {
   "cell_type": "markdown",
   "id": "5ab42d79",
   "metadata": {},
   "source": [
    "As we can see, the Tipo (type) column contains a description of the product in the dataframe. We can list the values in this type column and see which are the most relevant:"
   ]
  },
  {
   "cell_type": "code",
   "execution_count": 8,
   "id": "adccacf2",
   "metadata": {},
   "outputs": [
    {
     "data": {
      "text/plain": [
       "Tipo\n",
       "Dividendo           55\n",
       "Posición abierta    30\n",
       "Depósito             7\n",
       "Name: count, dtype: int64"
      ]
     },
     "execution_count": 8,
     "metadata": {},
     "output_type": "execute_result"
    }
   ],
   "source": [
    "# List the kind of product/type of transactional movement.\n",
    "invests_df[\"Tipo\"].value_counts()"
   ]
  },
  {
   "cell_type": "markdown",
   "id": "f9b506a3",
   "metadata": {},
   "source": [
    "As we can see, we have three types of products:\n",
    "- **Dividends (Dividendos):** These are the dividens paid by each ETF. A dividend can be seen as a price paid by an ETF for each unit bought by the investor. These dividends tends to be low-price, but these are periodic. \n",
    "- **Open Position (Posición abierta):** These show us the units bought for each ETF. The number of units depends on the import spent for each ETF and their market prices at that date.\n",
    "- **Deposit (Depósito):** This show us the records of payments to the portafolium. These are payments made in order to buy units in the market stock, and it is done through bank accounts or credit/debit cards by the investor. \n",
    "\n",
    "Now, lets see a general information by grouping them by variable. This can be done by using the ``groupby()`` function (to group our df by a given column values) and the ``describe()`` method to compute some numerical general information for a column (such as the mean, the standard deviation, the min and max values in the column, etc)."
   ]
  },
  {
   "cell_type": "code",
   "execution_count": 9,
   "id": "53336dbb",
   "metadata": {},
   "outputs": [
    {
     "data": {
      "text/html": [
       "<div>\n",
       "<style scoped>\n",
       "    .dataframe tbody tr th:only-of-type {\n",
       "        vertical-align: middle;\n",
       "    }\n",
       "\n",
       "    .dataframe tbody tr th {\n",
       "        vertical-align: top;\n",
       "    }\n",
       "\n",
       "    .dataframe thead th {\n",
       "        text-align: right;\n",
       "    }\n",
       "</style>\n",
       "<table border=\"1\" class=\"dataframe\">\n",
       "  <thead>\n",
       "    <tr style=\"text-align: right;\">\n",
       "      <th></th>\n",
       "      <th>count</th>\n",
       "      <th>mean</th>\n",
       "      <th>std</th>\n",
       "      <th>min</th>\n",
       "      <th>25%</th>\n",
       "      <th>50%</th>\n",
       "      <th>75%</th>\n",
       "      <th>max</th>\n",
       "    </tr>\n",
       "    <tr>\n",
       "      <th>Tipo</th>\n",
       "      <th></th>\n",
       "      <th></th>\n",
       "      <th></th>\n",
       "      <th></th>\n",
       "      <th></th>\n",
       "      <th></th>\n",
       "      <th></th>\n",
       "      <th></th>\n",
       "    </tr>\n",
       "  </thead>\n",
       "  <tbody>\n",
       "    <tr>\n",
       "      <th>Depósito</th>\n",
       "      <td>7.0</td>\n",
       "      <td>286.857143</td>\n",
       "      <td>108.393463</td>\n",
       "      <td>200.00</td>\n",
       "      <td>200.0</td>\n",
       "      <td>200.0</td>\n",
       "      <td>399.00</td>\n",
       "      <td>410.00</td>\n",
       "    </tr>\n",
       "    <tr>\n",
       "      <th>Dividendo</th>\n",
       "      <td>55.0</td>\n",
       "      <td>0.182545</td>\n",
       "      <td>0.078415</td>\n",
       "      <td>0.08</td>\n",
       "      <td>0.1</td>\n",
       "      <td>0.2</td>\n",
       "      <td>0.25</td>\n",
       "      <td>0.30</td>\n",
       "    </tr>\n",
       "    <tr>\n",
       "      <th>Posición abierta</th>\n",
       "      <td>30.0</td>\n",
       "      <td>67.104333</td>\n",
       "      <td>33.942869</td>\n",
       "      <td>37.12</td>\n",
       "      <td>37.5</td>\n",
       "      <td>50.0</td>\n",
       "      <td>112.50</td>\n",
       "      <td>123.58</td>\n",
       "    </tr>\n",
       "  </tbody>\n",
       "</table>\n",
       "</div>"
      ],
      "text/plain": [
       "                  count        mean         std     min    25%    50%     75%  \\\n",
       "Tipo                                                                            \n",
       "Depósito            7.0  286.857143  108.393463  200.00  200.0  200.0  399.00   \n",
       "Dividendo          55.0    0.182545    0.078415    0.08    0.1    0.2    0.25   \n",
       "Posición abierta   30.0   67.104333   33.942869   37.12   37.5   50.0  112.50   \n",
       "\n",
       "                     max  \n",
       "Tipo                      \n",
       "Depósito          410.00  \n",
       "Dividendo           0.30  \n",
       "Posición abierta  123.58  "
      ]
     },
     "execution_count": 9,
     "metadata": {},
     "output_type": "execute_result"
    }
   ],
   "source": [
    "# Lets see the general info of the imports column by grouping the type column values\n",
    "invests_df.groupby(\"Tipo\")[\"Importe\"].describe()"
   ]
  },
  {
   "cell_type": "markdown",
   "id": "4e29fea4",
   "metadata": {},
   "source": [
    "Now, we are going to consider only the information of the open positions (the units bought for each ETF):"
   ]
  },
  {
   "cell_type": "code",
   "execution_count": 10,
   "id": "608769b5",
   "metadata": {},
   "outputs": [
    {
     "data": {
      "text/html": [
       "<div>\n",
       "<style scoped>\n",
       "    .dataframe tbody tr th:only-of-type {\n",
       "        vertical-align: middle;\n",
       "    }\n",
       "\n",
       "    .dataframe tbody tr th {\n",
       "        vertical-align: top;\n",
       "    }\n",
       "\n",
       "    .dataframe thead th {\n",
       "        text-align: right;\n",
       "    }\n",
       "</style>\n",
       "<table border=\"1\" class=\"dataframe\">\n",
       "  <thead>\n",
       "    <tr style=\"text-align: right;\">\n",
       "      <th></th>\n",
       "      <th>Fecha</th>\n",
       "      <th>Tipo</th>\n",
       "      <th>Detalles</th>\n",
       "      <th>Importe</th>\n",
       "      <th>Unidades</th>\n",
       "    </tr>\n",
       "  </thead>\n",
       "  <tbody>\n",
       "    <tr>\n",
       "      <th>1</th>\n",
       "      <td>2025-01-06 14:30:45</td>\n",
       "      <td>Posición abierta</td>\n",
       "      <td>VB/USD</td>\n",
       "      <td>37.5</td>\n",
       "      <td>0.152811</td>\n",
       "    </tr>\n",
       "    <tr>\n",
       "      <th>2</th>\n",
       "      <td>2025-01-06 14:30:52</td>\n",
       "      <td>Posición abierta</td>\n",
       "      <td>VOO/USD</td>\n",
       "      <td>112.5</td>\n",
       "      <td>0.205258</td>\n",
       "    </tr>\n",
       "    <tr>\n",
       "      <th>3</th>\n",
       "      <td>2025-01-06 14:31:32</td>\n",
       "      <td>Posición abierta</td>\n",
       "      <td>VXUS/USD</td>\n",
       "      <td>50.0</td>\n",
       "      <td>0.83738</td>\n",
       "    </tr>\n",
       "    <tr>\n",
       "      <th>5</th>\n",
       "      <td>2025-01-27 14:30:21</td>\n",
       "      <td>Posición abierta</td>\n",
       "      <td>VB/USD</td>\n",
       "      <td>37.5</td>\n",
       "      <td>0.150096</td>\n",
       "    </tr>\n",
       "    <tr>\n",
       "      <th>6</th>\n",
       "      <td>2025-01-27 14:32:42</td>\n",
       "      <td>Posición abierta</td>\n",
       "      <td>VOO/USD</td>\n",
       "      <td>112.5</td>\n",
       "      <td>0.204761</td>\n",
       "    </tr>\n",
       "  </tbody>\n",
       "</table>\n",
       "</div>"
      ],
      "text/plain": [
       "                Fecha              Tipo  Detalles  Importe  Unidades\n",
       "1 2025-01-06 14:30:45  Posición abierta    VB/USD     37.5  0.152811\n",
       "2 2025-01-06 14:30:52  Posición abierta   VOO/USD    112.5  0.205258\n",
       "3 2025-01-06 14:31:32  Posición abierta  VXUS/USD     50.0   0.83738\n",
       "5 2025-01-27 14:30:21  Posición abierta    VB/USD     37.5  0.150096\n",
       "6 2025-01-27 14:32:42  Posición abierta   VOO/USD    112.5  0.204761"
      ]
     },
     "execution_count": 10,
     "metadata": {},
     "output_type": "execute_result"
    }
   ],
   "source": [
    "# We create a df called actions_df with the Open positions (Position abierta) information\n",
    "actions_df = invests_df[invests_df[\"Tipo\"] == \"Posición abierta\"].copy()\n",
    "\n",
    "# Show the first 5 rows of the actions_df\n",
    "actions_df.head(5)"
   ]
  },
  {
   "cell_type": "code",
   "execution_count": 11,
   "id": "68bbbe9d",
   "metadata": {},
   "outputs": [
    {
     "data": {
      "text/plain": [
       "Detalles\n",
       "SPYG/USD     112.50\n",
       "VB/USD       374.62\n",
       "VOO/USD     1023.91\n",
       "VXUS/USD     502.10\n",
       "Name: Importe, dtype: float64"
      ]
     },
     "execution_count": 11,
     "metadata": {},
     "output_type": "execute_result"
    }
   ],
   "source": [
    "# We can compute the total imports made by the investor grouped by ETF product. The Details (Detalles) column provides\n",
    "# the list of ETFs. The imports are given in USDs\n",
    "actions_df.groupby(\"Detalles\")[\"Importe\"].sum()"
   ]
  },
  {
   "cell_type": "code",
   "execution_count": 12,
   "id": "0b7f9d11",
   "metadata": {},
   "outputs": [
    {
     "name": "stdout",
     "output_type": "stream",
     "text": [
      "Total invest value 2013.13 USDs\n"
     ]
    }
   ],
   "source": [
    "# It is also possible to compute the total imports by computing the sum of each individual import values\n",
    "total_invest = actions_df[\"Importe\"].sum()\n",
    "print(f\"Total invest value {total_invest} USDs\")"
   ]
  },
  {
   "cell_type": "markdown",
   "id": "9d7160c6",
   "metadata": {},
   "source": [
    "### Defying relevant functions\n",
    "\n",
    "Now, we can define some functions that can be used later"
   ]
  },
  {
   "cell_type": "code",
   "execution_count": 13,
   "id": "26cbcb8e",
   "metadata": {},
   "outputs": [],
   "source": [
    "# Function to compute the current price of an action in the market stocks. It receives the details to know what is the \n",
    "# ETF product, and the units to know how many units were bought.\n",
    "def current_market_unit(details_column, units_column):\n",
    "    current_value_unit = 0\n",
    "    if(details_column == \"VOO/USD\"):\n",
    "        current_value_unit = units_column*current_price_VOO\n",
    "    elif(details_column == \"VB/USD\"):\n",
    "        current_value_unit = units_column*current_price_VB\n",
    "    elif(details_column == \"VXUS/USD\"):\n",
    "        current_value_unit = units_column*current_price_VXUS\n",
    "    elif(details_column == \"SPYG/USD\"):\n",
    "        current_value_unit = units_column*current_price_SPYG\n",
    "    else:\n",
    "        current_value_unit = 0\n",
    "    return current_value_unit\n",
    "\n",
    "# Function to compute the TAE of a single investment up to the current date\n",
    "def individual_TAE(inversion_date, acumulate):\n",
    "    TAE = 0\n",
    "    days = pd.Timedelta(current_date-inversion_date, unit=\"d\").days\n",
    "    TAE = (1+acumulate)**(1*(365/days))-1\n",
    "    return TAE"
   ]
  },
  {
   "cell_type": "markdown",
   "id": "a695fd1a",
   "metadata": {},
   "source": [
    "## Cleaning and formating the data to be used\n",
    "\n",
    "The following code line is a formatting of the needed variables. It is also created some new variables to be analyzed:"
   ]
  },
  {
   "cell_type": "code",
   "execution_count": 14,
   "id": "50273876",
   "metadata": {},
   "outputs": [
    {
     "data": {
      "text/html": [
       "<div>\n",
       "<style scoped>\n",
       "    .dataframe tbody tr th:only-of-type {\n",
       "        vertical-align: middle;\n",
       "    }\n",
       "\n",
       "    .dataframe tbody tr th {\n",
       "        vertical-align: top;\n",
       "    }\n",
       "\n",
       "    .dataframe thead th {\n",
       "        text-align: right;\n",
       "    }\n",
       "</style>\n",
       "<table border=\"1\" class=\"dataframe\">\n",
       "  <thead>\n",
       "    <tr style=\"text-align: right;\">\n",
       "      <th></th>\n",
       "      <th>Fecha</th>\n",
       "      <th>Tipo</th>\n",
       "      <th>Detalles</th>\n",
       "      <th>Importe</th>\n",
       "      <th>Unidades</th>\n",
       "      <th>Valor Liquidativo</th>\n",
       "      <th>Valor del Mercado</th>\n",
       "      <th>Plusvalía/Minusvalía</th>\n",
       "      <th>Acumulada</th>\n",
       "      <th>% Acumulada</th>\n",
       "      <th>TAE</th>\n",
       "      <th>% TAE</th>\n",
       "    </tr>\n",
       "  </thead>\n",
       "  <tbody>\n",
       "    <tr>\n",
       "      <th>1</th>\n",
       "      <td>2025-01-06 14:30:45</td>\n",
       "      <td>Posición abierta</td>\n",
       "      <td>VB/USD</td>\n",
       "      <td>37.5</td>\n",
       "      <td>0.152811</td>\n",
       "      <td>245.401182</td>\n",
       "      <td>37.912409</td>\n",
       "      <td>0.412409</td>\n",
       "      <td>0.010998</td>\n",
       "      <td>1.099758</td>\n",
       "      <td>0.014517</td>\n",
       "      <td>1.451664</td>\n",
       "    </tr>\n",
       "    <tr>\n",
       "      <th>2</th>\n",
       "      <td>2025-01-06 14:30:52</td>\n",
       "      <td>Posición abierta</td>\n",
       "      <td>VOO/USD</td>\n",
       "      <td>112.5</td>\n",
       "      <td>0.205258</td>\n",
       "      <td>548.090696</td>\n",
       "      <td>123.259482</td>\n",
       "      <td>10.759482</td>\n",
       "      <td>0.095640</td>\n",
       "      <td>9.563984</td>\n",
       "      <td>0.127898</td>\n",
       "      <td>12.789810</td>\n",
       "    </tr>\n",
       "    <tr>\n",
       "      <th>3</th>\n",
       "      <td>2025-01-06 14:31:32</td>\n",
       "      <td>Posición abierta</td>\n",
       "      <td>VXUS/USD</td>\n",
       "      <td>50.0</td>\n",
       "      <td>0.837380</td>\n",
       "      <td>59.710048</td>\n",
       "      <td>60.433715</td>\n",
       "      <td>10.433715</td>\n",
       "      <td>0.208674</td>\n",
       "      <td>20.867429</td>\n",
       "      <td>0.283684</td>\n",
       "      <td>28.368387</td>\n",
       "    </tr>\n",
       "    <tr>\n",
       "      <th>5</th>\n",
       "      <td>2025-01-27 14:30:21</td>\n",
       "      <td>Posición abierta</td>\n",
       "      <td>VB/USD</td>\n",
       "      <td>37.5</td>\n",
       "      <td>0.150096</td>\n",
       "      <td>249.840102</td>\n",
       "      <td>37.238818</td>\n",
       "      <td>-0.261182</td>\n",
       "      <td>-0.006965</td>\n",
       "      <td>-0.696486</td>\n",
       "      <td>-0.009916</td>\n",
       "      <td>-0.991563</td>\n",
       "    </tr>\n",
       "    <tr>\n",
       "      <th>6</th>\n",
       "      <td>2025-01-27 14:32:42</td>\n",
       "      <td>Posición abierta</td>\n",
       "      <td>VOO/USD</td>\n",
       "      <td>112.5</td>\n",
       "      <td>0.204761</td>\n",
       "      <td>549.421032</td>\n",
       "      <td>122.961028</td>\n",
       "      <td>10.461028</td>\n",
       "      <td>0.092987</td>\n",
       "      <td>9.298692</td>\n",
       "      <td>0.135158</td>\n",
       "      <td>13.515846</td>\n",
       "    </tr>\n",
       "  </tbody>\n",
       "</table>\n",
       "</div>"
      ],
      "text/plain": [
       "                Fecha              Tipo  Detalles  Importe  Unidades  \\\n",
       "1 2025-01-06 14:30:45  Posición abierta    VB/USD     37.5  0.152811   \n",
       "2 2025-01-06 14:30:52  Posición abierta   VOO/USD    112.5  0.205258   \n",
       "3 2025-01-06 14:31:32  Posición abierta  VXUS/USD     50.0  0.837380   \n",
       "5 2025-01-27 14:30:21  Posición abierta    VB/USD     37.5  0.150096   \n",
       "6 2025-01-27 14:32:42  Posición abierta   VOO/USD    112.5  0.204761   \n",
       "\n",
       "   Valor Liquidativo  Valor del Mercado  Plusvalía/Minusvalía  Acumulada  \\\n",
       "1         245.401182          37.912409              0.412409   0.010998   \n",
       "2         548.090696         123.259482             10.759482   0.095640   \n",
       "3          59.710048          60.433715             10.433715   0.208674   \n",
       "5         249.840102          37.238818             -0.261182  -0.006965   \n",
       "6         549.421032         122.961028             10.461028   0.092987   \n",
       "\n",
       "   % Acumulada       TAE      % TAE  \n",
       "1     1.099758  0.014517   1.451664  \n",
       "2     9.563984  0.127898  12.789810  \n",
       "3    20.867429  0.283684  28.368387  \n",
       "5    -0.696486 -0.009916  -0.991563  \n",
       "6     9.298692  0.135158  13.515846  "
      ]
     },
     "execution_count": 14,
     "metadata": {},
     "output_type": "execute_result"
    }
   ],
   "source": [
    "# It is formatted the Units to be float type.\n",
    "actions_df[\"Unidades\"] = actions_df[\"Unidades\"].astype(float)\n",
    "\n",
    "# It is computed the value of the ETF unit at the moment of the purchase\n",
    "actions_df[\"Valor Liquidativo\"] = actions_df[\"Importe\"]/actions_df[\"Unidades\"]\n",
    "\n",
    "# Computing the current price of the units\n",
    "actions_df[\"Valor del Mercado\"] = np.vectorize(current_market_unit)(actions_df[\"Detalles\"], actions_df[\"Unidades\"]) \n",
    "\n",
    "# Computing the gain/lost of each investment\n",
    "actions_df[\"Plusvalía/Minusvalía\"] = actions_df[\"Valor del Mercado\"] - actions_df[\"Importe\"]\n",
    "\n",
    "# Acumulative rate of each investment\n",
    "actions_df[\"Acumulada\"] = actions_df[\"Plusvalía/Minusvalía\"] / actions_df[\"Importe\"]\n",
    "\n",
    "# Percentage of Acumulative rate of each investment\n",
    "actions_df[\"% Acumulada\"] = 100*actions_df[\"Acumulada\"]\n",
    "\n",
    "# Computing the current TAE (XIRR) of each investment up to date\n",
    "actions_df[\"TAE\"] = np.vectorize(individual_TAE)(actions_df[\"Fecha\"], actions_df[\"Acumulada\"])\n",
    "\n",
    "# Percentage of XIRR for each investment up to the date\n",
    "actions_df[\"% TAE\"] = 100*actions_df[\"TAE\"]\n",
    "\n",
    "# Show the first 5 rows of the actions_df with the new columns\n",
    "actions_df.head(5)"
   ]
  },
  {
   "cell_type": "code",
   "execution_count": 15,
   "id": "faf4c985",
   "metadata": {},
   "outputs": [
    {
     "name": "stdout",
     "output_type": "stream",
     "text": [
      "<class 'pandas.core.frame.DataFrame'>\n",
      "Index: 30 entries, 1 to 72\n",
      "Data columns (total 12 columns):\n",
      " #   Column                Non-Null Count  Dtype         \n",
      "---  ------                --------------  -----         \n",
      " 0   Fecha                 30 non-null     datetime64[ns]\n",
      " 1   Tipo                  30 non-null     object        \n",
      " 2   Detalles              30 non-null     object        \n",
      " 3   Importe               30 non-null     float64       \n",
      " 4   Unidades              30 non-null     float64       \n",
      " 5   Valor Liquidativo     30 non-null     float64       \n",
      " 6   Valor del Mercado     30 non-null     float64       \n",
      " 7   Plusvalía/Minusvalía  30 non-null     float64       \n",
      " 8   Acumulada             30 non-null     float64       \n",
      " 9   % Acumulada           30 non-null     float64       \n",
      " 10  TAE                   30 non-null     float64       \n",
      " 11  % TAE                 30 non-null     float64       \n",
      "dtypes: datetime64[ns](1), float64(9), object(2)\n",
      "memory usage: 3.0+ KB\n"
     ]
    }
   ],
   "source": [
    "# Run this line to see the columns and their type format in the actions_df\n",
    "actions_df.info()"
   ]
  },
  {
   "cell_type": "code",
   "execution_count": 16,
   "id": "67c34cca",
   "metadata": {},
   "outputs": [
    {
     "data": {
      "text/html": [
       "<div>\n",
       "<style scoped>\n",
       "    .dataframe tbody tr th:only-of-type {\n",
       "        vertical-align: middle;\n",
       "    }\n",
       "\n",
       "    .dataframe tbody tr th {\n",
       "        vertical-align: top;\n",
       "    }\n",
       "\n",
       "    .dataframe thead th {\n",
       "        text-align: right;\n",
       "    }\n",
       "</style>\n",
       "<table border=\"1\" class=\"dataframe\">\n",
       "  <thead>\n",
       "    <tr style=\"text-align: right;\">\n",
       "      <th></th>\n",
       "      <th>count</th>\n",
       "      <th>mean</th>\n",
       "      <th>std</th>\n",
       "      <th>min</th>\n",
       "      <th>25%</th>\n",
       "      <th>50%</th>\n",
       "      <th>75%</th>\n",
       "      <th>max</th>\n",
       "    </tr>\n",
       "    <tr>\n",
       "      <th>Detalles</th>\n",
       "      <th></th>\n",
       "      <th></th>\n",
       "      <th></th>\n",
       "      <th></th>\n",
       "      <th></th>\n",
       "      <th></th>\n",
       "      <th></th>\n",
       "      <th></th>\n",
       "    </tr>\n",
       "  </thead>\n",
       "  <tbody>\n",
       "    <tr>\n",
       "      <th>SPYG/USD</th>\n",
       "      <td>1.0</td>\n",
       "      <td>-2.735565</td>\n",
       "      <td>NaN</td>\n",
       "      <td>-2.735565</td>\n",
       "      <td>-2.735565</td>\n",
       "      <td>-2.735565</td>\n",
       "      <td>-2.735565</td>\n",
       "      <td>-2.735565</td>\n",
       "    </tr>\n",
       "    <tr>\n",
       "      <th>VB/USD</th>\n",
       "      <td>10.0</td>\n",
       "      <td>3.958589</td>\n",
       "      <td>6.304430</td>\n",
       "      <td>-4.157316</td>\n",
       "      <td>-0.441605</td>\n",
       "      <td>2.280383</td>\n",
       "      <td>7.370381</td>\n",
       "      <td>15.836898</td>\n",
       "    </tr>\n",
       "    <tr>\n",
       "      <th>VOO/USD</th>\n",
       "      <td>9.0</td>\n",
       "      <td>9.583971</td>\n",
       "      <td>6.021811</td>\n",
       "      <td>1.357014</td>\n",
       "      <td>5.935836</td>\n",
       "      <td>9.563984</td>\n",
       "      <td>11.446649</td>\n",
       "      <td>19.549500</td>\n",
       "    </tr>\n",
       "    <tr>\n",
       "      <th>VXUS/USD</th>\n",
       "      <td>10.0</td>\n",
       "      <td>9.626092</td>\n",
       "      <td>8.039177</td>\n",
       "      <td>-1.903072</td>\n",
       "      <td>3.565402</td>\n",
       "      <td>10.419956</td>\n",
       "      <td>15.055038</td>\n",
       "      <td>20.867429</td>\n",
       "    </tr>\n",
       "  </tbody>\n",
       "</table>\n",
       "</div>"
      ],
      "text/plain": [
       "          count      mean       std       min       25%        50%        75%  \\\n",
       "Detalles                                                                        \n",
       "SPYG/USD    1.0 -2.735565       NaN -2.735565 -2.735565  -2.735565  -2.735565   \n",
       "VB/USD     10.0  3.958589  6.304430 -4.157316 -0.441605   2.280383   7.370381   \n",
       "VOO/USD     9.0  9.583971  6.021811  1.357014  5.935836   9.563984  11.446649   \n",
       "VXUS/USD   10.0  9.626092  8.039177 -1.903072  3.565402  10.419956  15.055038   \n",
       "\n",
       "                max  \n",
       "Detalles             \n",
       "SPYG/USD  -2.735565  \n",
       "VB/USD    15.836898  \n",
       "VOO/USD   19.549500  \n",
       "VXUS/USD  20.867429  "
      ]
     },
     "execution_count": 16,
     "metadata": {},
     "output_type": "execute_result"
    }
   ],
   "source": [
    "# We can also print a general information by ETF of the % Acumulative gains/loss \n",
    "actions_df.groupby(\"Detalles\")[\"% Acumulada\"].describe()"
   ]
  },
  {
   "cell_type": "code",
   "execution_count": 17,
   "id": "5028c6c0",
   "metadata": {},
   "outputs": [
    {
     "data": {
      "text/plain": [
       "Detalles\n",
       "SPYG/USD    -3.077510\n",
       "VB/USD      14.825547\n",
       "VOO/USD     99.259884\n",
       "VXUS/USD    48.198343\n",
       "Name: Plusvalía/Minusvalía, dtype: float64"
      ]
     },
     "execution_count": 17,
     "metadata": {},
     "output_type": "execute_result"
    }
   ],
   "source": [
    "# Or print a general information by ETF of the gain/loss in USDs up to the current date\n",
    "actions_df.groupby(\"Detalles\")[\"Plusvalía/Minusvalía\"].sum()"
   ]
  },
  {
   "cell_type": "code",
   "execution_count": 18,
   "id": "a4bb41d4",
   "metadata": {},
   "outputs": [
    {
     "name": "stdout",
     "output_type": "stream",
     "text": [
      "The total gain/loss of all the investments is: 159.2063 USDs\n"
     ]
    }
   ],
   "source": [
    "# The total gain/loss of all the investments can be also computed by making the sum of all individual gains/loss \n",
    "# for each purchase\n",
    "total_gain_loss = actions_df[\"Plusvalía/Minusvalía\"].sum()\n",
    "print(f\"The total gain/loss of all the investments is: {total_gain_loss:.4f} USDs\")"
   ]
  },
  {
   "cell_type": "markdown",
   "id": "473235d4",
   "metadata": {},
   "source": [
    "## Computing the TAE (XIRR)\n",
    "\n",
    "Now that we have the needed variables, we can compute the TAE (XIRR) of all the investments."
   ]
  },
  {
   "cell_type": "code",
   "execution_count": 19,
   "id": "0204d2cd",
   "metadata": {},
   "outputs": [
    {
     "name": "stdout",
     "output_type": "stream",
     "text": [
      "Total value of SPYG ETF in the portafolium: 109.4225 USDs\n",
      "Total value of VB ETF in the portafolium: 389.4455 USDs\n",
      "Total value of VOO ETF in the portafolium: 1123.1699 USDs\n",
      "Total value of VXUS ETF in the portafolium: 550.2983 USDs\n",
      "Total value ETFs in the portafolium: 2172.3363 USDs\n"
     ]
    },
    {
     "data": {
      "text/plain": [
       "Detalles\n",
       "SPYG/USD     109.422490\n",
       "VB/USD       389.445547\n",
       "VOO/USD     1123.169884\n",
       "VXUS/USD     550.298343\n",
       "Name: Valor del Mercado, dtype: float64"
      ]
     },
     "execution_count": 19,
     "metadata": {},
     "output_type": "execute_result"
    }
   ],
   "source": [
    "# Compute the total current values of the purchases of each ETF\n",
    "total_value_VOO = actions_df[actions_df[\"Detalles\"]==\"VOO/USD\"][\"Valor del Mercado\"].sum()\n",
    "total_value_VB = actions_df[actions_df[\"Detalles\"]==\"VB/USD\"][\"Valor del Mercado\"].sum()\n",
    "total_value_VXUS = actions_df[actions_df[\"Detalles\"]==\"VXUS/USD\"][\"Valor del Mercado\"].sum()\n",
    "total_value_SPYG = actions_df[actions_df[\"Detalles\"]==\"SPYG/USD\"][\"Valor del Mercado\"].sum()\n",
    "total_value_ETFs = actions_df[\"Valor del Mercado\"].sum()\n",
    "\n",
    "# Print the current value of each ETF in the portafolium\n",
    "print(f\"Total value of SPYG ETF in the portafolium: {total_value_SPYG:.4f} USDs\")\n",
    "print(f\"Total value of VB ETF in the portafolium: {total_value_VB:.4f} USDs\")\n",
    "print(f\"Total value of VOO ETF in the portafolium: {total_value_VOO:.4f} USDs\")\n",
    "print(f\"Total value of VXUS ETF in the portafolium: {total_value_VXUS:.4f} USDs\")\n",
    "\n",
    "# Print the total value of the portafolium\n",
    "print(f\"Total value ETFs in the portafolium: {total_value_ETFs:.4f} USDs\")\n",
    "\n",
    "actions_df.groupby(\"Detalles\")[\"Valor del Mercado\"].sum()"
   ]
  },
  {
   "cell_type": "code",
   "execution_count": 20,
   "id": "26d4a14a",
   "metadata": {},
   "outputs": [
    {
     "data": {
      "text/html": [
       "<div>\n",
       "<style scoped>\n",
       "    .dataframe tbody tr th:only-of-type {\n",
       "        vertical-align: middle;\n",
       "    }\n",
       "\n",
       "    .dataframe tbody tr th {\n",
       "        vertical-align: top;\n",
       "    }\n",
       "\n",
       "    .dataframe thead th {\n",
       "        text-align: right;\n",
       "    }\n",
       "</style>\n",
       "<table border=\"1\" class=\"dataframe\">\n",
       "  <thead>\n",
       "    <tr style=\"text-align: right;\">\n",
       "      <th></th>\n",
       "      <th>Fecha</th>\n",
       "      <th>Detalles</th>\n",
       "      <th>Importe</th>\n",
       "    </tr>\n",
       "  </thead>\n",
       "  <tbody>\n",
       "    <tr>\n",
       "      <th>0</th>\n",
       "      <td>2025-10-11</td>\n",
       "      <td>VOO/USD</td>\n",
       "      <td>-1123.169884</td>\n",
       "    </tr>\n",
       "    <tr>\n",
       "      <th>1</th>\n",
       "      <td>2025-10-11</td>\n",
       "      <td>VB/USD</td>\n",
       "      <td>-389.445547</td>\n",
       "    </tr>\n",
       "    <tr>\n",
       "      <th>2</th>\n",
       "      <td>2025-10-11</td>\n",
       "      <td>VXUS/USD</td>\n",
       "      <td>-550.298343</td>\n",
       "    </tr>\n",
       "    <tr>\n",
       "      <th>3</th>\n",
       "      <td>2025-10-11</td>\n",
       "      <td>SPYG/USD</td>\n",
       "      <td>-109.422490</td>\n",
       "    </tr>\n",
       "  </tbody>\n",
       "</table>\n",
       "</div>"
      ],
      "text/plain": [
       "       Fecha  Detalles      Importe\n",
       "0 2025-10-11   VOO/USD -1123.169884\n",
       "1 2025-10-11    VB/USD  -389.445547\n",
       "2 2025-10-11  VXUS/USD  -550.298343\n",
       "3 2025-10-11  SPYG/USD  -109.422490"
      ]
     },
     "execution_count": 20,
     "metadata": {},
     "output_type": "execute_result"
    }
   ],
   "source": [
    "# In order to compute the XIRR, we save the current values of each ETF up to date in a new df called exports_df\n",
    "exports_df = pd.DataFrame({\n",
    "    \"Fecha\": [current_date, current_date, current_date, current_date],\n",
    "    \"Detalles\": [\"VOO/USD\", \"VB/USD\", \"VXUS/USD\", \"SPYG/USD\"],\n",
    "    \"Importe\": [-1.0*total_value_VOO, -1.0*total_value_VB, -1.0*total_value_VXUS, -1.0*total_value_SPYG]\n",
    "})\n",
    "\n",
    "# Print the information of the exports_df\n",
    "exports_df.head()"
   ]
  },
  {
   "cell_type": "code",
   "execution_count": 21,
   "id": "fb251fd8",
   "metadata": {},
   "outputs": [
    {
     "data": {
      "text/html": [
       "<div>\n",
       "<style scoped>\n",
       "    .dataframe tbody tr th:only-of-type {\n",
       "        vertical-align: middle;\n",
       "    }\n",
       "\n",
       "    .dataframe tbody tr th {\n",
       "        vertical-align: top;\n",
       "    }\n",
       "\n",
       "    .dataframe thead th {\n",
       "        text-align: right;\n",
       "    }\n",
       "</style>\n",
       "<table border=\"1\" class=\"dataframe\">\n",
       "  <thead>\n",
       "    <tr style=\"text-align: right;\">\n",
       "      <th></th>\n",
       "      <th>Fecha</th>\n",
       "      <th>Detalles</th>\n",
       "      <th>Importe</th>\n",
       "    </tr>\n",
       "  </thead>\n",
       "  <tbody>\n",
       "    <tr>\n",
       "      <th>29</th>\n",
       "      <td>2025-09-23 13:30:40</td>\n",
       "      <td>VXUS/USD</td>\n",
       "      <td>50.000000</td>\n",
       "    </tr>\n",
       "    <tr>\n",
       "      <th>30</th>\n",
       "      <td>2025-10-11 00:00:00</td>\n",
       "      <td>VOO/USD</td>\n",
       "      <td>-1123.169884</td>\n",
       "    </tr>\n",
       "    <tr>\n",
       "      <th>31</th>\n",
       "      <td>2025-10-11 00:00:00</td>\n",
       "      <td>VB/USD</td>\n",
       "      <td>-389.445547</td>\n",
       "    </tr>\n",
       "    <tr>\n",
       "      <th>32</th>\n",
       "      <td>2025-10-11 00:00:00</td>\n",
       "      <td>VXUS/USD</td>\n",
       "      <td>-550.298343</td>\n",
       "    </tr>\n",
       "    <tr>\n",
       "      <th>33</th>\n",
       "      <td>2025-10-11 00:00:00</td>\n",
       "      <td>SPYG/USD</td>\n",
       "      <td>-109.422490</td>\n",
       "    </tr>\n",
       "  </tbody>\n",
       "</table>\n",
       "</div>"
      ],
      "text/plain": [
       "                 Fecha  Detalles      Importe\n",
       "29 2025-09-23 13:30:40  VXUS/USD    50.000000\n",
       "30 2025-10-11 00:00:00   VOO/USD -1123.169884\n",
       "31 2025-10-11 00:00:00    VB/USD  -389.445547\n",
       "32 2025-10-11 00:00:00  VXUS/USD  -550.298343\n",
       "33 2025-10-11 00:00:00  SPYG/USD  -109.422490"
      ]
     },
     "execution_count": 21,
     "metadata": {},
     "output_type": "execute_result"
    }
   ],
   "source": [
    "# Create a temporary df that includes the investments and the final value of each ETF with only the needed columns to compute \n",
    "# the XIRR, which is the date of the purchase and its import, with the current values (important to be in negative) with the \n",
    "# current date\n",
    "tae_df = pd.concat([actions_df, exports_df], join=\"inner\", ignore_index=True)\n",
    "\n",
    "# Print the first 5 rows of the tae_df\n",
    "tae_df.tail(5)"
   ]
  },
  {
   "cell_type": "markdown",
   "id": "33d917f5",
   "metadata": {},
   "source": [
    "Now, we can compute the XIRR of each ETF up to the date by using the ``pyxirr`` tool:"
   ]
  },
  {
   "cell_type": "code",
   "execution_count": 22,
   "id": "20740e5a",
   "metadata": {},
   "outputs": [
    {
     "name": "stdout",
     "output_type": "stream",
     "text": [
      "The total TAE (XIRR) of VOO ETF up to date (2025-10-11 00:00:00) is: 22.44%\n",
      "The total TAE (XIRR) of VB ETF up to date (2025-10-11 00:00:00) is: 9.80%\n",
      "The total TAE (XIRR) of VXUS ETF up to date (2025-10-11 00:00:00) is: 24.56%\n",
      "The total TAE (XIRR) of SPYG ETF up to date (2025-10-11 00:00:00) is: -43.02%\n"
     ]
    }
   ],
   "source": [
    "# Compute TAE per ETF by using pyxirr library\n",
    "tae_VOO = pyxirr.xirr(tae_df[tae_df[\"Detalles\"]==\"VOO/USD\"][\"Fecha\"], tae_df[tae_df[\"Detalles\"]==\"VOO/USD\"][\"Importe\"])\n",
    "print(f\"The total TAE (XIRR) of VOO ETF up to date ({current_date}) is: {tae_VOO:.2%}\")\n",
    "\n",
    "tae_VB = pyxirr.xirr(tae_df[tae_df[\"Detalles\"]==\"VB/USD\"][\"Fecha\"], tae_df[tae_df[\"Detalles\"]==\"VB/USD\"][\"Importe\"])\n",
    "print(f\"The total TAE (XIRR) of VB ETF up to date ({current_date}) is: {tae_VB:.2%}\")\n",
    "\n",
    "tae_VXUS = pyxirr.xirr(tae_df[tae_df[\"Detalles\"]==\"VXUS/USD\"][\"Fecha\"], tae_df[tae_df[\"Detalles\"]==\"VXUS/USD\"][\"Importe\"])\n",
    "print(f\"The total TAE (XIRR) of VXUS ETF up to date ({current_date}) is: {tae_VXUS:.2%}\")\n",
    "\n",
    "tae_SPYG = pyxirr.xirr(tae_df[tae_df[\"Detalles\"]==\"SPYG/USD\"][\"Fecha\"], tae_df[tae_df[\"Detalles\"]==\"SPYG/USD\"][\"Importe\"])\n",
    "print(f\"The total TAE (XIRR) of SPYG ETF up to date ({current_date}) is: {tae_SPYG:.2%}\")"
   ]
  },
  {
   "cell_type": "markdown",
   "id": "1def7285",
   "metadata": {},
   "source": [
    "Or we can compute the total XIRR of all the investments in the portafolium:"
   ]
  },
  {
   "cell_type": "code",
   "execution_count": 23,
   "id": "df2df4bd",
   "metadata": {},
   "outputs": [
    {
     "name": "stdout",
     "output_type": "stream",
     "text": [
      "The total TAE (XIRR) of the portafolium is: 20.01%\n"
     ]
    }
   ],
   "source": [
    "# Compute the total TAE (XIRR) of the portafolium\n",
    "tae = pyxirr.xirr(tae_df[\"Fecha\"], tae_df[\"Importe\"])\n",
    "print(f\"The total TAE (XIRR) of the portafolium is: {tae:.2%}\")"
   ]
  },
  {
   "cell_type": "markdown",
   "id": "8ea7c46b",
   "metadata": {},
   "source": [
    "## Dividends\n",
    "\n",
    "Once we have computed the XIRR of the protafolium, we can also study the dividends paid by each action/ETF in the portafolium. First, we can create a dataframe that saves the dividends information:"
   ]
  },
  {
   "cell_type": "code",
   "execution_count": 24,
   "id": "64a80384",
   "metadata": {},
   "outputs": [
    {
     "data": {
      "text/html": [
       "<div>\n",
       "<style scoped>\n",
       "    .dataframe tbody tr th:only-of-type {\n",
       "        vertical-align: middle;\n",
       "    }\n",
       "\n",
       "    .dataframe tbody tr th {\n",
       "        vertical-align: top;\n",
       "    }\n",
       "\n",
       "    .dataframe thead th {\n",
       "        text-align: right;\n",
       "    }\n",
       "</style>\n",
       "<table border=\"1\" class=\"dataframe\">\n",
       "  <thead>\n",
       "    <tr style=\"text-align: right;\">\n",
       "      <th></th>\n",
       "      <th>Fecha</th>\n",
       "      <th>Tipo</th>\n",
       "      <th>Detalles</th>\n",
       "      <th>Importe</th>\n",
       "      <th>Unidades</th>\n",
       "    </tr>\n",
       "  </thead>\n",
       "  <tbody>\n",
       "    <tr>\n",
       "      <th>12</th>\n",
       "      <td>2025-03-25 00:16:52</td>\n",
       "      <td>Dividendo</td>\n",
       "      <td>VXUS/USD</td>\n",
       "      <td>0.11</td>\n",
       "      <td>-</td>\n",
       "    </tr>\n",
       "    <tr>\n",
       "      <th>13</th>\n",
       "      <td>2025-03-25 00:16:52</td>\n",
       "      <td>Dividendo</td>\n",
       "      <td>VXUS/USD</td>\n",
       "      <td>0.11</td>\n",
       "      <td>-</td>\n",
       "    </tr>\n",
       "    <tr>\n",
       "      <th>14</th>\n",
       "      <td>2025-03-25 00:16:52</td>\n",
       "      <td>Dividendo</td>\n",
       "      <td>VXUS/USD</td>\n",
       "      <td>0.11</td>\n",
       "      <td>-</td>\n",
       "    </tr>\n",
       "    <tr>\n",
       "      <th>18</th>\n",
       "      <td>2025-03-31 00:52:27</td>\n",
       "      <td>Dividendo</td>\n",
       "      <td>VB/USD</td>\n",
       "      <td>0.10</td>\n",
       "      <td>-</td>\n",
       "    </tr>\n",
       "    <tr>\n",
       "      <th>19</th>\n",
       "      <td>2025-03-31 00:52:27</td>\n",
       "      <td>Dividendo</td>\n",
       "      <td>VB/USD</td>\n",
       "      <td>0.10</td>\n",
       "      <td>-</td>\n",
       "    </tr>\n",
       "  </tbody>\n",
       "</table>\n",
       "</div>"
      ],
      "text/plain": [
       "                 Fecha       Tipo  Detalles  Importe Unidades\n",
       "12 2025-03-25 00:16:52  Dividendo  VXUS/USD     0.11        -\n",
       "13 2025-03-25 00:16:52  Dividendo  VXUS/USD     0.11        -\n",
       "14 2025-03-25 00:16:52  Dividendo  VXUS/USD     0.11        -\n",
       "18 2025-03-31 00:52:27  Dividendo    VB/USD     0.10        -\n",
       "19 2025-03-31 00:52:27  Dividendo    VB/USD     0.10        -"
      ]
     },
     "execution_count": 24,
     "metadata": {},
     "output_type": "execute_result"
    }
   ],
   "source": [
    "# Create a new df called dividends_df from the invest_df by filtering by Dividend type movement\n",
    "dividends_df = invests_df[invests_df[\"Tipo\"]==\"Dividendo\"].copy()\n",
    "\n",
    "# Show the first rows of the dividends_df\n",
    "dividends_df.head()"
   ]
  },
  {
   "cell_type": "code",
   "execution_count": 25,
   "id": "030314e9",
   "metadata": {},
   "outputs": [
    {
     "data": {
      "text/plain": [
       "Detalles\n",
       "VB/USD      1.72\n",
       "VOO/USD     4.62\n",
       "VXUS/USD    3.70\n",
       "Name: Importe, dtype: float64"
      ]
     },
     "execution_count": 25,
     "metadata": {},
     "output_type": "execute_result"
    }
   ],
   "source": [
    "# We can print the dividends paid by each ETF (in USDs)\n",
    "dividends_df.groupby(\"Detalles\")[\"Importe\"].sum()"
   ]
  },
  {
   "cell_type": "code",
   "execution_count": 26,
   "id": "a44c68ff",
   "metadata": {},
   "outputs": [
    {
     "name": "stdout",
     "output_type": "stream",
     "text": [
      "Total amount of dividends paid up to 2025-10-11 00:00:00: -> 10.04 USD\n"
     ]
    }
   ],
   "source": [
    "# This line computes the total dividends paid of all ETFs in the portafolium\n",
    "total_dividends = dividends_df[\"Importe\"].sum()\n",
    "print(f\"Total amount of dividends paid up to {current_date}: -> {total_dividends:.4} USD\")"
   ]
  },
  {
   "cell_type": "markdown",
   "id": "367faddf",
   "metadata": {},
   "source": [
    "## Plotting the contribution of the investments and the interests in the portafolium\n",
    "\n",
    "Now, we can see a comparison of the imports (total investments) and the interests produced by our investments. "
   ]
  },
  {
   "cell_type": "code",
   "execution_count": 27,
   "id": "6b8e3a5a",
   "metadata": {},
   "outputs": [
    {
     "name": "stdout",
     "output_type": "stream",
     "text": [
      "The total imports (without including dividends non re-invested) is 2008.00 USDs (92.44%).\n",
      "The total amount of money invested is 2013.13 USDs (92.67%).\n",
      "The total dividends paid in the portafolium is 10.04 USDs (0.46%).\n",
      "The total amount of gain/loss in the portafolium due to the interests of each ETF is 159.21 USDs (7.33%).\n",
      "The total current value of the portafolium is 2172.34 USDs.\n"
     ]
    }
   ],
   "source": [
    "# Compute the total investment (without including dividends)\n",
    "total_imports = invests_df[invests_df[\"Tipo\"]==\"Depósito\"][\"Importe\"].sum()\n",
    "\n",
    "# Compute the total gains/loss\n",
    "total_gains = actions_df[\"Plusvalía/Minusvalía\"].sum()\n",
    "\n",
    "# Compute the total current value of the investments\n",
    "total_current_value = actions_df[\"Valor del Mercado\"].sum()\n",
    "\n",
    "# Compute the percentage of the total investment and the interests in the portafolium\n",
    "perc_total_imports = 100.0*total_imports/total_current_value\n",
    "perc_total_dividends = 100.0*total_dividends/total_current_value\n",
    "perc_total_invest = 100.0*total_invest/total_current_value\n",
    "perc_total_gains = 100.0*total_gains/total_current_value\n",
    "\n",
    "print(f\"The total imports (without including dividends non re-invested) is {total_imports:.2f} USDs ({perc_total_imports:.2f}%).\")\n",
    "print(f\"The total amount of money invested is {total_invest:.2f} USDs ({perc_total_invest:.2f}%).\")\n",
    "print(f\"The total dividends paid in the portafolium is {total_dividends:.2f} USDs ({perc_total_dividends:.2f}%).\")\n",
    "print(f\"The total amount of gain/loss in the portafolium due to the interests of each ETF is {total_gains:.2f} USDs ({perc_total_gains:.2f}%).\")\n",
    "print(f\"The total current value of the portafolium is {total_current_value:.2f} USDs.\")"
   ]
  },
  {
   "cell_type": "markdown",
   "id": "57305b24",
   "metadata": {},
   "source": [
    "Now, we can plot a pie chart with the percentage of the money invested and the interests given by the gain/loss of each investment. This pie chart will also show us the compund of the portafolium between invested money and interests. This composition will have a higher contribution of invested money for the first years and after ~10 or more years, the interests is expected to contribute the most to the portafolium."
   ]
  },
  {
   "cell_type": "code",
   "execution_count": 28,
   "id": "22b1b06e",
   "metadata": {},
   "outputs": [
    {
     "data": {
      "image/png": "[encoded data removed]",
      "text/plain": [
       "<Figure size 640x480 with 1 Axes>"
      ]
     },
     "metadata": {},
     "output_type": "display_data"
    }
   ],
   "source": [
    "# Data for the pie chart\n",
    "sizes = np.array([perc_total_invest, perc_total_gains])\n",
    "labels = [f\"Total Investment ({perc_total_invest:.2f}%)\", f\"Interests ({perc_total_gains:.2f}%)\"]\n",
    "\n",
    "# Create the pie chart\n",
    "plt.pie(sizes, labels=labels)\n",
    "\n",
    "# Add a title (optional)\n",
    "plt.title(\"Portafolium Composition\")\n",
    "\n",
    "# Show the plot\n",
    "plt.show()"
   ]
  }
 ],
 "metadata": {
  "kernelspec": {
   "display_name": "analysis",
   "language": "python",
   "name": "python3"
  },
  "language_info": {
   "codemirror_mode": {
    "name": "ipython",
    "version": 3
   },
   "file_extension": ".py",
   "mimetype": "text/x-python",
   "name": "python",
   "nbconvert_exporter": "python",
   "pygments_lexer": "ipython3",
   "version": "3.11.13"
  }
 },
 "nbformat": 4,
 "nbformat_minor": 5
}
